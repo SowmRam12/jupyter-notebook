{
 "cells": [
  {
   "cell_type": "code",
   "execution_count": 3,
   "id": "876992c8",
   "metadata": {},
   "outputs": [
    {
     "name": "stdout",
     "output_type": "stream",
     "text": [
      "Test accuracy =0.34\n",
      "Train accuracy=0.28\n",
      "Test_accuracy0.34\n",
      "Train_accuracy:0.28\n"
     ]
    },
    {
     "data": {
      "text/plain": [
       "array([6.04033497, 5.10035857, 5.46344311, ..., 6.47436202, 5.57142371,\n",
       "       5.39154142])"
      ]
     },
     "execution_count": 3,
     "metadata": {},
     "output_type": "execute_result"
    }
   ],
   "source": [
    "import numpy as np\n",
    "import pandas as pd\n",
    "import matplotlib.pyplot as plt\n",
    "from sklearn.linear_model import LinearRegression\n",
    "\n",
    "\n",
    "\n",
    "\n",
    "train_set = pd.read_csv(\"wine_train.csv\")\n",
    "test_set = pd.read_csv(\"wine_test.csv\")\n",
    "\n",
    "X_train = np.array(train_set[list(train_set.columns[1:-1])])\n",
    "y_train = np.array(train_set[\"quality\"])\n",
    "X_test = np.array(test_set[list(test_set.columns[1:-1])])\n",
    "y_test = np.array(test_set[\"quality\"])\n",
    "training_accuracy = []\n",
    "test_accuracy = []\n",
    "\n",
    "\n",
    "reg.score(X_test, y_test)\n",
    "reg.score(X_train,y_train)\n",
    "\n",
    "#X,y = mglearn.datasets.make_wave(n_samples=90)\n",
    "#plt.legend(X,y)\n",
    "#plt.show(X,y)\n",
    "\n",
    "print(\"Test accuracy ={:.2f}\" .format(reg.score(X_test,y_test)))\n",
    "\n",
    "print(\"Train accuracy={:.2f}\" .format(reg.score(X_train,y_train)))\n",
    "\n",
    "reg = LinearRegression().fit(X_train, y_train)\n",
    "\n",
    "\n",
    "print(\"Test_accuracy{:.2f}\"  .format(reg.score(X_test,y_test)))\n",
    "print(\"Train_accuracy:{:.2f}\" .format(reg.score(X_train,y_train)))\n",
    "predictions = reg.predict(X_test)\n",
    "predictions\n",
    "   \n",
    "\n",
    "\n",
    "\n",
    "\n"
   ]
  },
  {
   "cell_type": "code",
   "execution_count": null,
   "id": "a9cad0eb",
   "metadata": {},
   "outputs": [],
   "source": []
  }
 ],
 "metadata": {
  "kernelspec": {
   "display_name": "Python 3 (ipykernel)",
   "language": "python",
   "name": "python3"
  },
  "language_info": {
   "codemirror_mode": {
    "name": "ipython",
    "version": 3
   },
   "file_extension": ".py",
   "mimetype": "text/x-python",
   "name": "python",
   "nbconvert_exporter": "python",
   "pygments_lexer": "ipython3",
   "version": "3.9.7"
  }
 },
 "nbformat": 4,
 "nbformat_minor": 5
}
