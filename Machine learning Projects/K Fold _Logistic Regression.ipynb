{
 "cells": [
  {
   "cell_type": "code",
   "execution_count": 116,
   "id": "c18b5d93",
   "metadata": {},
   "outputs": [
    {
     "name": "stdout",
     "output_type": "stream",
     "text": [
      "Cross Validation Accuracy: 92.812% (1.190%)\n",
      "Train_accuracy 0.94\n",
      "Test_accuracy 0.92\n"
     ]
    },
    {
     "data": {
      "text/plain": [
       "array([[635,  39],\n",
       "       [ 52, 425]])"
      ]
     },
     "execution_count": 116,
     "metadata": {},
     "output_type": "execute_result"
    }
   ],
   "source": [
    "from sklearn.model_selection import KFold\n",
    "from sklearn.linear_model import LogisticRegression\n",
    "import pandas as pd\n",
    "import numpy as np\n",
    "import matplotlib.pyplot as plt\n",
    "from sklearn.model_selection import cross_val_score\n",
    "from sklearn.metrics import confusion_matrix\n",
    "\n",
    "\n",
    "\n",
    "train_set = pd.read_csv(\"spam_train.csv\")\n",
    "test_set = pd.read_csv(\"spam_test.csv\")\n",
    "\n",
    "Test_accuracy = []\n",
    "Train_accuracy =[]\n",
    "results =[]\n",
    "\n",
    "X_train = np.array(train_set[list(train_set.columns[1:-1])])\n",
    "y_train = np.array(train_set[\"class\"])\n",
    "X_test = np.array(test_set[list(test_set.columns[1:-1])])\n",
    "y_test = np.array(test_set[\"class\"])\n",
    "\n",
    "\n",
    "#kfold = KFold(n_splits=5, random_state=0, shuffle=True)\n",
    "#model = LogisticRegression(C=0.01,max_iter=10000)\n",
    "#scores = cross_val_score(model, X_test, y_test, scoring='accuracy', cv=cv, n_jobs=-1)\n",
    "#print('Accuracy: {:.3f}' .format(scores))\n",
    "\n",
    "\n",
    "kfold = KFold(n_splits=5, random_state=0, shuffle=True)\n",
    "model = LogisticRegression(C=100, max_iter=10000)\n",
    "results = cross_val_score(model, X_train,y_train, cv=kfold)\n",
    "\n",
    "\n",
    "print(\"Cross Validation Accuracy: %.3f%% (%.3f%%)\" % (results.mean()*100.0, results.std()*100.0))\n",
    "\n",
    "\n",
    "\n",
    "model = LogisticRegression( C=100,max_iter =10000)\n",
    "model.fit(X_train,y_train)\n",
    "print(\"Train_accuracy {:.2f}\".format(model.score(X_train,y_train)))\n",
    "print(\"Test_accuracy {:.2f}\".format(model.score(X_test,y_test)))\n",
    "\n",
    "cf = confusion_matrix(y_test,model.predict(X_test))\n",
    "cf\n",
    "\n",
    "\n",
    "\n",
    "\n",
    "      \n",
    "\n",
    "\n",
    "\n",
    "\n",
    "\n",
    "\n",
    "\n",
    "\n",
    "\n"
   ]
  },
  {
   "cell_type": "code",
   "execution_count": null,
   "id": "175e2e00",
   "metadata": {},
   "outputs": [],
   "source": []
  },
  {
   "cell_type": "code",
   "execution_count": null,
   "id": "d130fe56",
   "metadata": {},
   "outputs": [],
   "source": []
  }
 ],
 "metadata": {
  "kernelspec": {
   "display_name": "Python 3 (ipykernel)",
   "language": "python",
   "name": "python3"
  },
  "language_info": {
   "codemirror_mode": {
    "name": "ipython",
    "version": 3
   },
   "file_extension": ".py",
   "mimetype": "text/x-python",
   "name": "python",
   "nbconvert_exporter": "python",
   "pygments_lexer": "ipython3",
   "version": "3.9.7"
  }
 },
 "nbformat": 4,
 "nbformat_minor": 5
}
